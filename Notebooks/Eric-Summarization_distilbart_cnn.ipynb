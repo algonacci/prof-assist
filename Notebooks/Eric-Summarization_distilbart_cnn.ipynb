{
  "nbformat": 4,
  "nbformat_minor": 0,
  "metadata": {
    "colab": {
      "name": "Summarization-distilbart-cnn.ipynb",
      "provenance": [],
      "collapsed_sections": []
    },
    "kernelspec": {
      "name": "python3",
      "display_name": "Python 3"
    },
    "language_info": {
      "name": "python"
    }
  },
  "cells": [
    {
      "cell_type": "markdown",
      "source": [
        "### Import Libraries"
      ],
      "metadata": {
        "id": "Jkqe6-xaT0DX"
      }
    },
    {
      "cell_type": "code",
      "source": [
        "from IPython.display import clear_output"
      ],
      "metadata": {
        "id": "xNi4nzpsT2F9"
      },
      "execution_count": 17,
      "outputs": []
    },
    {
      "cell_type": "code",
      "source": [
        "!pip install transformers\n",
        "!pip install pdfplumber\n",
        "clear_output()"
      ],
      "metadata": {
        "id": "GxDGDAO7-6kt"
      },
      "execution_count": 18,
      "outputs": []
    },
    {
      "cell_type": "code",
      "source": [
        "from transformers import pipeline\n",
        "import pdfplumber\n",
        "from google.colab import drive"
      ],
      "metadata": {
        "id": "kwgTMF1q-5Nl"
      },
      "execution_count": 19,
      "outputs": []
    },
    {
      "cell_type": "code",
      "source": [
        "drive.mount('/content/drive/')"
      ],
      "metadata": {
        "colab": {
          "base_uri": "https://localhost:8080/"
        },
        "id": "wBTsIPL3UILn",
        "outputId": "b37b98c3-5c96-4ddf-bd99-e49fa2604895"
      },
      "execution_count": 20,
      "outputs": [
        {
          "output_type": "stream",
          "name": "stdout",
          "text": [
            "Drive already mounted at /content/drive/; to attempt to forcibly remount, call drive.mount(\"/content/drive/\", force_remount=True).\n"
          ]
        }
      ]
    },
    {
      "cell_type": "markdown",
      "source": [
        "### Extract PDF to text"
      ],
      "metadata": {
        "id": "calIV2_UVnI6"
      }
    },
    {
      "cell_type": "code",
      "source": [
        "def extract_pdf(directory):\n",
        "    all_text = ''\n",
        "    with pdfplumber.open(directory) as pdf:\n",
        "            for pdf_page in pdf.pages:\n",
        "                single_page_text = pdf_page.extract_text()\n",
        "                all_text = all_text + '\\n' + single_page_text\n",
        "        \n",
        "    return all_text"
      ],
      "metadata": {
        "id": "8PyspeAnT8SN"
      },
      "execution_count": 21,
      "outputs": []
    },
    {
      "cell_type": "code",
      "source": [
        "doc = '/content/drive/MyDrive/Online learning and its problems in the Covid-19 emergency period.pdf'\n",
        "text = extract_pdf(doc)"
      ],
      "metadata": {
        "id": "DnrfrelET9n1"
      },
      "execution_count": 22,
      "outputs": []
    },
    {
      "cell_type": "markdown",
      "source": [
        "### PDF text is too big, change into an article"
      ],
      "metadata": {
        "id": "jwRPdtyCVp26"
      }
    },
    {
      "cell_type": "code",
      "source": [
        "article='''\n",
        "The evolution of the discipline of marketing is best represented by the change \\\n",
        "in i the subtitle of our book When we started this book was called eMarketing \\\n",
        "the essential guide to digital marketing Today as you will see we have adjusted \\\n",
        "this to eMarketing the essential guide to marketing in a digital world This \\\n",
        "change has been an easy and natural one It underlines an important shift in \\\n",
        "the way we think about and engage with digital Digital is not a channel in the \\\n",
        "same way that a marketer might view television or radio as a channel Instead \\\n",
        "digital is a way of life It is the experiential glue which binds previously \\\n",
        "separated media together Because of this digital enables a cohesive brand \\\n",
        "experience that wasn t previously on offer In fact it s highly likely that \\\n",
        "within the next edition or two we will need to acknowledge this shift in the \\\n",
        "role of digital by ditching the e in eMarketing At best it is quickly becoming\\\n",
        "pass at worst it will become completely redundant\n",
        "\n",
        "eMarketing is comprehensive and a must have for anyone wanting to gain a there \\\n",
        "are not many It is all about an approach and finding the solution that best more\\\n",
        "thorough understand of digital marketing It s required reading for people i i \\\n",
        "suits your company strategy and organisational needs The insights and approach \\\n",
        "working in the digital space and recommended for those involved in advertising \\\n",
        "i provide a well structured guide to the channels and approaches that you will \\\n",
        "need PR social media and other areas that are touched by digital\n",
        "'''"
      ],
      "metadata": {
        "id": "5v_e2SuvUm5V"
      },
      "execution_count": 29,
      "outputs": []
    },
    {
      "cell_type": "markdown",
      "source": [
        "### Summarization from HuggingFace"
      ],
      "metadata": {
        "id": "oBqbAgVJVvWR"
      }
    },
    {
      "cell_type": "code",
      "source": [
        "summarizer = pipeline('summarization')"
      ],
      "metadata": {
        "colab": {
          "base_uri": "https://localhost:8080/"
        },
        "id": "VyJb7H80AZzC",
        "outputId": "99de15b6-93bd-4e4c-ebdb-183625a0dd29"
      },
      "execution_count": 40,
      "outputs": [
        {
          "output_type": "stream",
          "name": "stderr",
          "text": [
            "No model was supplied, defaulted to sshleifer/distilbart-cnn-12-6 (https://huggingface.co/sshleifer/distilbart-cnn-12-6)\n"
          ]
        }
      ]
    },
    {
      "cell_type": "code",
      "source": [
        "summary = summarizer(article, max_length=157, min_length=30, do_sample=False)"
      ],
      "metadata": {
        "id": "wgz0y1uuAqAq"
      },
      "execution_count": 42,
      "outputs": []
    },
    {
      "cell_type": "code",
      "source": [
        "summary[0]['summary_text']"
      ],
      "metadata": {
        "colab": {
          "base_uri": "https://localhost:8080/",
          "height": 53
        },
        "id": "zB4hDNOUB3St",
        "outputId": "806353a2-c58c-48ad-c669-90891a49d473"
      },
      "execution_count": 43,
      "outputs": [
        {
          "output_type": "execute_result",
          "data": {
            "text/plain": [
              "\" Digital is not a channel in the   same way that a marketer might view television or radio as a channel . Instead digital is a way of life and is the experiential glue which binds previously separated media together . Digital enables a cohesive brand   experience that wasn't previously on offer .\""
            ],
            "application/vnd.google.colaboratory.intrinsic+json": {
              "type": "string"
            }
          },
          "metadata": {},
          "execution_count": 43
        }
      ]
    }
  ]
}