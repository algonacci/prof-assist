{
  "nbformat": 4,
  "nbformat_minor": 0,
  "metadata": {
    "colab": {
      "name": "QA_BERT_Squad_with_HuggingFace_Summarizer.ipynb",
      "provenance": [],
      "collapsed_sections": []
    },
    "kernelspec": {
      "name": "python3",
      "display_name": "Python 3"
    },
    "language_info": {
      "name": "python"
    }
  },
  "cells": [
    {
      "cell_type": "markdown",
      "source": [
        "### Import Libraries"
      ],
      "metadata": {
        "id": "UrQ4fkQV22b3"
      }
    },
    {
      "cell_type": "code",
      "execution_count": 1,
      "metadata": {
        "id": "GpYuEoGP2hSD"
      },
      "outputs": [],
      "source": [
        "from IPython.display import clear_output"
      ]
    },
    {
      "cell_type": "code",
      "source": [
        "!pip install transformers\n",
        "!pip install pdfplumber\n",
        "!pip install Pillow==9.0.0\n",
        "clear_output()"
      ],
      "metadata": {
        "id": "oQoyMV1A25ub"
      },
      "execution_count": 2,
      "outputs": []
    },
    {
      "cell_type": "code",
      "source": [
        "from transformers import pipeline\n",
        "import pdfplumber\n",
        "import re\n",
        "from google.colab import drive"
      ],
      "metadata": {
        "id": "WgrdwLDV27uh"
      },
      "execution_count": 3,
      "outputs": []
    },
    {
      "cell_type": "code",
      "source": [
        "drive.mount('/content/drive/')"
      ],
      "metadata": {
        "colab": {
          "base_uri": "https://localhost:8080/"
        },
        "id": "pFRRS9Yn2-Ep",
        "outputId": "6f7acb4a-bf40-4c82-b28f-ed6248e5622b"
      },
      "execution_count": 4,
      "outputs": [
        {
          "output_type": "stream",
          "name": "stdout",
          "text": [
            "Mounted at /content/drive/\n"
          ]
        }
      ]
    },
    {
      "cell_type": "markdown",
      "source": [
        "### Extract PDF"
      ],
      "metadata": {
        "id": "AAUP6gfk3BaZ"
      }
    },
    {
      "cell_type": "code",
      "source": [
        "def extract_pdf(directory):\n",
        "    all_text = ''\n",
        "    with pdfplumber.open(directory) as pdf:\n",
        "            for pdf_page in pdf.pages:\n",
        "                single_page_text = pdf_page.extract_text()\n",
        "                all_text = all_text + '\\n' + single_page_text\n",
        "        \n",
        "    return all_text"
      ],
      "metadata": {
        "id": "RWRVOs062_yS"
      },
      "execution_count": 5,
      "outputs": []
    },
    {
      "cell_type": "code",
      "source": [
        "doc = '/content/drive/MyDrive/Online learning and its problems in the Covid-19 emergency period.pdf'\n",
        "text = extract_pdf(doc)"
      ],
      "metadata": {
        "id": "YGNZN9zg3S6Y"
      },
      "execution_count": 71,
      "outputs": []
    },
    {
      "cell_type": "markdown",
      "source": [
        "### Chuck Text"
      ],
      "metadata": {
        "id": "vZPrpDdV3Ybx"
      }
    },
    {
      "cell_type": "code",
      "source": [
        "text = text.replace('.', '.<eos>')\n",
        "text = text.replace('?', '?<eos>')\n",
        "text = text.replace('!', '!<eos>')\n",
        "text = re.sub('\\\\+n', ' ', text)\n",
        "text = re.sub('\\n',\" \",text) # Remove every '\\n'\n",
        "text = re.sub('((www\\.[^\\s]+)|(https?://[^\\s]+)|(http?://[^\\s]+))',' ',text) # Remove every URL\n",
        "text = re.sub(':', ' ', text)\n",
        "text = re.sub(';', ' ', text)\n",
        "text = re.sub(',', ' ', text)\n",
        "text = re.sub('\\\\+', ' ', text)\n",
        "text = re.sub('  +', ' ', text) # Remove extra spaces\n",
        "sentences = text.split('<eos>')"
      ],
      "metadata": {
        "id": "iob-vOW83dEW"
      },
      "execution_count": 72,
      "outputs": []
    },
    {
      "cell_type": "code",
      "source": [
        "max_chunk = 200\n",
        "current_chunk = 0 \n",
        "chunks = []\n",
        "for sentence in sentences:\n",
        "    if len(chunks) == current_chunk + 1: \n",
        "        if len(chunks[current_chunk]) + len(sentence.split(' ')) <= max_chunk:\n",
        "            chunks[current_chunk].extend(sentence.split(' '))\n",
        "        else:\n",
        "            current_chunk += 1\n",
        "            chunks.append(sentence.split(' '))\n",
        "    else:\n",
        "        print(current_chunk)\n",
        "        chunks.append(sentence.split(' '))\n",
        "\n",
        "for chunk_id in range(len(chunks)):\n",
        "    chunks[chunk_id] = ' '.join(chunks[chunk_id])"
      ],
      "metadata": {
        "colab": {
          "base_uri": "https://localhost:8080/"
        },
        "id": "tS2N1jIR3kU4",
        "outputId": "bccad719-bd6d-49b6-b99d-9c5f56bd2cd8"
      },
      "execution_count": 82,
      "outputs": [
        {
          "output_type": "stream",
          "name": "stdout",
          "text": [
            "0\n"
          ]
        }
      ]
    },
    {
      "cell_type": "code",
      "source": [
        "len(chunks)"
      ],
      "metadata": {
        "colab": {
          "base_uri": "https://localhost:8080/"
        },
        "id": "dI_lp5h73uTv",
        "outputId": "a16bb734-63f1-4967-ec2f-f4cf5929ff33"
      },
      "execution_count": 83,
      "outputs": [
        {
          "output_type": "execute_result",
          "data": {
            "text/plain": [
              "36"
            ]
          },
          "metadata": {},
          "execution_count": 83
        }
      ]
    },
    {
      "cell_type": "code",
      "source": [
        "summarizer = pipeline('summarization')"
      ],
      "metadata": {
        "colab": {
          "base_uri": "https://localhost:8080/"
        },
        "id": "D9w2ZQpF4aCV",
        "outputId": "6c9340e5-9f6c-41fe-d6eb-e9a06ebc10f2"
      },
      "execution_count": 84,
      "outputs": [
        {
          "output_type": "stream",
          "name": "stderr",
          "text": [
            "No model was supplied, defaulted to sshleifer/distilbart-cnn-12-6 (https://huggingface.co/sshleifer/distilbart-cnn-12-6)\n"
          ]
        }
      ]
    },
    {
      "cell_type": "code",
      "source": [
        "result = summarizer(chunks, max_length=500, min_length=30, do_sample=False)"
      ],
      "metadata": {
        "colab": {
          "base_uri": "https://localhost:8080/"
        },
        "id": "nh8Ki30X4Q0S",
        "outputId": "66041515-cfad-4b61-b5c0-0537f54d5ed9"
      },
      "execution_count": 62,
      "outputs": [
        {
          "output_type": "stream",
          "name": "stderr",
          "text": [
            "Your max_length is set to 500, but you input_length is only 276. You might consider decreasing max_length manually, e.g. summarizer('...', max_length=138)\n",
            "Your max_length is set to 500, but you input_length is only 250. You might consider decreasing max_length manually, e.g. summarizer('...', max_length=125)\n",
            "Your max_length is set to 500, but you input_length is only 262. You might consider decreasing max_length manually, e.g. summarizer('...', max_length=131)\n",
            "Your max_length is set to 500, but you input_length is only 191. You might consider decreasing max_length manually, e.g. summarizer('...', max_length=95)\n",
            "Your max_length is set to 500, but you input_length is only 212. You might consider decreasing max_length manually, e.g. summarizer('...', max_length=106)\n",
            "Your max_length is set to 500, but you input_length is only 260. You might consider decreasing max_length manually, e.g. summarizer('...', max_length=130)\n",
            "Your max_length is set to 500, but you input_length is only 260. You might consider decreasing max_length manually, e.g. summarizer('...', max_length=130)\n",
            "Your max_length is set to 500, but you input_length is only 247. You might consider decreasing max_length manually, e.g. summarizer('...', max_length=123)\n",
            "Your max_length is set to 500, but you input_length is only 240. You might consider decreasing max_length manually, e.g. summarizer('...', max_length=120)\n",
            "Your max_length is set to 500, but you input_length is only 269. You might consider decreasing max_length manually, e.g. summarizer('...', max_length=134)\n",
            "Your max_length is set to 500, but you input_length is only 268. You might consider decreasing max_length manually, e.g. summarizer('...', max_length=134)\n",
            "Your max_length is set to 500, but you input_length is only 162. You might consider decreasing max_length manually, e.g. summarizer('...', max_length=81)\n",
            "Your max_length is set to 500, but you input_length is only 246. You might consider decreasing max_length manually, e.g. summarizer('...', max_length=123)\n",
            "Your max_length is set to 500, but you input_length is only 243. You might consider decreasing max_length manually, e.g. summarizer('...', max_length=121)\n",
            "Your max_length is set to 500, but you input_length is only 217. You might consider decreasing max_length manually, e.g. summarizer('...', max_length=108)\n",
            "Your max_length is set to 500, but you input_length is only 226. You might consider decreasing max_length manually, e.g. summarizer('...', max_length=113)\n",
            "Your max_length is set to 500, but you input_length is only 109. You might consider decreasing max_length manually, e.g. summarizer('...', max_length=54)\n",
            "Your max_length is set to 500, but you input_length is only 449. You might consider decreasing max_length manually, e.g. summarizer('...', max_length=224)\n",
            "Your max_length is set to 500, but you input_length is only 233. You might consider decreasing max_length manually, e.g. summarizer('...', max_length=116)\n",
            "Your max_length is set to 500, but you input_length is only 138. You might consider decreasing max_length manually, e.g. summarizer('...', max_length=69)\n",
            "Your max_length is set to 500, but you input_length is only 239. You might consider decreasing max_length manually, e.g. summarizer('...', max_length=119)\n",
            "Your max_length is set to 500, but you input_length is only 232. You might consider decreasing max_length manually, e.g. summarizer('...', max_length=116)\n",
            "Your max_length is set to 500, but you input_length is only 232. You might consider decreasing max_length manually, e.g. summarizer('...', max_length=116)\n",
            "Your max_length is set to 500, but you input_length is only 249. You might consider decreasing max_length manually, e.g. summarizer('...', max_length=124)\n",
            "Your max_length is set to 500, but you input_length is only 300. You might consider decreasing max_length manually, e.g. summarizer('...', max_length=150)\n",
            "Your max_length is set to 500, but you input_length is only 238. You might consider decreasing max_length manually, e.g. summarizer('...', max_length=119)\n",
            "Your max_length is set to 500, but you input_length is only 270. You might consider decreasing max_length manually, e.g. summarizer('...', max_length=135)\n",
            "Your max_length is set to 500, but you input_length is only 227. You might consider decreasing max_length manually, e.g. summarizer('...', max_length=113)\n",
            "Your max_length is set to 500, but you input_length is only 218. You might consider decreasing max_length manually, e.g. summarizer('...', max_length=109)\n",
            "Your max_length is set to 500, but you input_length is only 221. You might consider decreasing max_length manually, e.g. summarizer('...', max_length=110)\n",
            "Your max_length is set to 500, but you input_length is only 152. You might consider decreasing max_length manually, e.g. summarizer('...', max_length=76)\n",
            "Your max_length is set to 500, but you input_length is only 267. You might consider decreasing max_length manually, e.g. summarizer('...', max_length=133)\n",
            "Your max_length is set to 500, but you input_length is only 410. You might consider decreasing max_length manually, e.g. summarizer('...', max_length=205)\n",
            "Your max_length is set to 500, but you input_length is only 434. You might consider decreasing max_length manually, e.g. summarizer('...', max_length=217)\n",
            "Your max_length is set to 500, but you input_length is only 368. You might consider decreasing max_length manually, e.g. summarizer('...', max_length=184)\n",
            "Your max_length is set to 500, but you input_length is only 361. You might consider decreasing max_length manually, e.g. summarizer('...', max_length=180)\n"
          ]
        }
      ]
    },
    {
      "cell_type": "code",
      "source": [
        "result"
      ],
      "metadata": {
        "id": "vUlsiSko57Iq",
        "colab": {
          "base_uri": "https://localhost:8080/"
        },
        "outputId": "4e9b1dc3-cd8c-42d0-a7e8-f33e52c51902"
      },
      "execution_count": 89,
      "outputs": [
        {
          "output_type": "execute_result",
          "data": {
            "text/plain": [
              "[{'summary_text': ' Online learning and its problems in the Covid-19 emergency period . Available online at Jurnal Prima Edukasia 8 (1) 2020 86-95 . Rimba Hamid * Izlan Sentryo Sakka Hasan Universitas Halu Oleo .'},\n",
              " {'summary_text': ' Data collection techniques were those using open and closed questionnaires with 316 students of 2017 2018 and 2019 classes . Results of the study showed that PGSD FKIP UHO students in the online learning process concentrated on 3 main regencies/cities namely Kendari City Muna Regency and Konawe Selatan Regency .'},\n",
              " {'summary_text': ' The Corona Virus Disease (Covid-19) pandemic or plague has struck more than 200 countries in the world and has given its own challenges for educational institutions especially higher education . This condition requires citizens to stay at home work worship and study at home .'},\n",
              " {'summary_text': ' The level of Covid-19 spread has rapidly made every sector of human life feel its effects immediately . This condition forces educational institutions including LPTK to make breakthroughs related to learning methods and models .'},\n",
              " {'summary_text': ' In anticipation of all the possibilities in relation to the outbreak of the Covid-19 pandemic in a report titled “A framework to guide an education response to the COVID-19 Pandemic of 2020” several checklists for the education response are outlined .'},\n",
              " {'summary_text': ' On campus along with the Covid-19 pandemic case the learning that has been carried out using face-to-face or offline methods suddenly has to change to the online method . However in terms of assessment if it refers to the 2013 Curriculum it is very likely to be problematic because of the difficulty of conducting authentic assessments .'},\n",
              " {'summary_text': ' Circular of Minister of Education and Culture No. 36962/MPK. A/ HK/2020 dated 17 March 2020 concerning Online Learning and Working from Home to Prevent the Spread of Covid-19 . In point 4a emphasizes the implementation of online learning at home for students and students and in point 4b describes the process of teaching or lecturing from home .'},\n",
              " {'summary_text': ' The evaluation results also mentioned that as many as 25. 34% of students stated that lecturers were able to deliver course material online 45. 56% of the lecturers delivered the lecture material well . 64% understand the material very well .'},\n",
              " {'summary_text': ' This research was carried out in May 2020 which was included in the descriptive study by conducting a survey of PGSD FKIP UHO students who were scattered in all regencies/cities in Southeast Sulawesi . Data collection techniques were by using open and closed questionnaires with the research subjects of 316 students of the 2017 2018 and 2019 classes . Web-based questionnaires are becoming increasingly popular .'},\n",
              " {'summary_text': ' Data collection is related to the distribution of 316 PGSD FKIP UHO students during the online learning process in Covid-19 period spread across 17 Regencies / Cities in Southeast Sulawesi . Data obtained from students are in the form of . raw data collected online and converted in Excel format . Data are then processed based on the focus of this study .'},\n",
              " {'summary_text': ' Based on the data in Figure 1 it can be seen that during the Covid-19 period PGSD FKIP UHO students were concentrated in three main regions namely in Kendari City (25%) Muna Regency (17.41%) and Konawe Selatan Regency . Some students consider to stay temporarily in  Kendari during the online learning period because the internet network facilities are sufficient .'},\n",
              " {'summary_text': ' Almost all lecturers carried out online lectures by holding virtual meetings and facilitating student assignments with online classes with the Google Classroom and Edmodo appli- cations . However, lecturers still use supporting facilities such as email WhatsApp or by SMS .'},\n",
              " {'summary_text': ' The success of online learning cannot be separated from the availability of supporting learning infrastructure such as stable internet access access devices with the latest technology devices used for internet access as well as the presence of students who live in areas where there is no electricity network so that practical online learning very difficult to implement .'},\n",
              " {'summary_text': ' Only 29. 2% of students access the internet at their homes to study and complete assignments online from lecturers while 30. 4% look for areas with strong signals to access internet . Almost all students accessed the internet in online learning using mobile phones .'},\n",
              " {'summary_text': ' Data related to lectures are generally stored on student laptops so there are relatively obstacles to access them . Data in Figure 2 also shows that only a small percentage (9.1%) of students use laptops while studying online so the speed of doing their assignments has a delay time .'},\n",
              " {'summary_text': ' The challenge for the government is when Distance Learning (PJJ) is conducted online and implemented in areas where accessibility infrastructure and digital literacy are still low . More than half of internet users in Indonesia are in the Java region (55.7%) followed by Sumatra (21. 6%) Sulawesi-Maluku-Papua (10. 9%) Kalimantan (6.6%) and Bali and Nusa Tenggara 5.2% .'},\n",
              " {'summary_text': ' The above-mentioned facts will also contribute to the effectiveness of online learning in terms of ease of internet access for students who are located or domiciled in locations that are not covered by the internet network .'},\n",
              " {'summary_text': ' Number of Rural Villages/Urban Villages According to the Existence of Base Transceiver Station (BTS) Cellular Telephone Signal And GSM or CDMA Internet Signal 2018 BTS availability HP signal strength GSM/CDMA internet signal Regency/City Very Available NA Strong weak NA 4G/LTE 3G/H/GPRS NA Strong .'},\n",
              " {'summary_text': ' PGSD students’ written responses online by using google form . Nevertheless these constraints are a record of improvement as part of good reflection in the future .'},\n",
              " {'summary_text': ' The Covid-19 pandemic had a very significant impact on the educational aspect . Students must improve their skills in following the online learning process both independently and in groups and also be better able to adapt to the advancement of information technology .'},\n",
              " {'summary_text': ' The impact has implications for the readiness of lecturers and students in carrying out online or distance learning . Learning from offline to online cannot necessarily be carried out effectively . Online learning tools still lack support .'},\n",
              " {'summary_text': ' Online learning is an established learning paradigm that has a theoretical and practical appeal (Shalev- Shwartz 2011 p.  108) When the teacher or lecturer makes a shift from face to face learning to distance learning then the lecturer needs to adjust the strategy and material .'},\n",
              " {'summary_text': \" The description of students' perspective on online learning held by PGSD lecturers can be seen in Figure 3 . Of the five variables perceived based on the real condi- tions of what is experienced by students the findings that need enough attention from all parties are about 74. 2% of students who accumulatively perceive that online learning is less effective and ineffective .\"},\n",
              " {'summary_text': ' The limited space for interaction between students and lecturers in online learning decreases the interest of students in participating in learning . Even from the data it also appears that the values of academic subjectivity will emerge because of the large Copyright © 2020 Jurnal Prima Edukasia .'},\n",
              " {'summary_text': ' The lecturer or teacher helps carry out virtual discussions among students provides homework and follows up with students individually . To facilitate these activities it takes the ability of lecturers or teachers to design learning content in an attractive multimedia form (Primamukti & Farozin 2018 Sharma 2013)'},\n",
              " {'summary_text': \" Many schools especially in Jakarta have applied the online assignment method to students . The assignment is carried out through various available social media especially WhatsApp groups . This is in line with the statement of the Secretary General of the Federation of Indonesian Teachers' Union .\"},\n",
              " {'summary_text': ' Distance education is a teaching technique that makes students and instructors physically sepa- rated or separated by time . Instead of face-to-face learning this material and content is basically instructed by technology . The majority of teachers are not accustomed to applying online learning in the learning process before the covid-19 pandemic .'},\n",
              " {'summary_text': ' Learning online with Zoom and WhatsApp is only effective for theoretical and practicum subjects . Students showed their willingness to do learning with e-learning by 86.3% of students . Students supported the content where there were instructional materials that had to be done .'},\n",
              " {'summary_text': ' More than 30 percent of college students in the United States take at least one distance course . Online education is a reasonable choice either you are a teenager or an adult . One of the factors is its flexi- bility where online learning allows teachers and students to set their own pace .'},\n",
              " {'summary_text': ' The level of student dissatisfaction with online learning during the covid-19 period was relatively high (58. 4%) Of course many factors influence including the readiness of lecturers in carrying out learning because so far they still use face-to-face learning directly .'},\n",
              " {'summary_text': ' Online learning also promises to promote justice by giving students access to learning that might not be available such as accelerated courses in remote rural areas . Online learning can provide support to schools for all students . Experienced teachers can teach in individual environments and can meet the special needs of gifted students .'},\n",
              " {'summary_text': ' Students in the virtual learning process are concentrated in 3 main regencies/cities namely Kendari City Muna Regency and Konawe Selatan Regency . Students perceive that the implementation of virtual learning in the Covid-19 period has not been fully effective .'},\n",
              " {'summary_text': ' The effects of summer vacation on achievement test scores were studied in 1996 by Creswell and Nye B. Charlton K. Lindsay J. Greathouse .'},\n",
              " {'summary_text': ' Panduan pembelajaran jarak jauh Bagi guru selama sekolah tutup dan pandemi Covid-19 dengan semangat merdeka belajar .'},\n",
              " {'summary_text': ' Jurnal Prima Edukasia 8 (1) 2020 - 95 Rimba Hamid Izlan Sentryo Sakka Hasan authentic assessment in the textbook of curriculum 2013 . Menteri Pendidikan dan Kebudayaan Republik Indonesia. (2020) A framework to guide an education response to the COVID- 19 Pandemic of 2020.'},\n",
              " {'summary_text': ' Organisation for Economic Co-operation and Development.  Saifuddin M. F. Saifuddi F. I. I . I. J. Seno . (2020).  Revolusi pendidikan tinggi di tengah pandemi Covid-19. Com.'}]"
            ]
          },
          "metadata": {},
          "execution_count": 89
        }
      ]
    },
    {
      "cell_type": "code",
      "source": [
        "summary_text = ' '.join([summ['summary_text'] for summ in result])"
      ],
      "metadata": {
        "id": "tju3_TT-6DUY"
      },
      "execution_count": 90,
      "outputs": []
    },
    {
      "cell_type": "code",
      "source": [
        "summary_text"
      ],
      "metadata": {
        "id": "19YlaNte6Ef4",
        "colab": {
          "base_uri": "https://localhost:8080/",
          "height": 140
        },
        "outputId": "4ba719f2-99ed-4c04-d4cb-742aede1c075"
      },
      "execution_count": 91,
      "outputs": [
        {
          "output_type": "execute_result",
          "data": {
            "text/plain": [
              "\" Online learning and its problems in the Covid-19 emergency period . Available online at Jurnal Prima Edukasia 8 (1) 2020 86-95 . Rimba Hamid * Izlan Sentryo Sakka Hasan Universitas Halu Oleo .  Data collection techniques were those using open and closed questionnaires with 316 students of 2017 2018 and 2019 classes . Results of the study showed that PGSD FKIP UHO students in the online learning process concentrated on 3 main regencies/cities namely Kendari City Muna Regency and Konawe Selatan Regency .  The Corona Virus Disease (Covid-19) pandemic or plague has struck more than 200 countries in the world and has given its own challenges for educational institutions especially higher education . This condition requires citizens to stay at home work worship and study at home .  The level of Covid-19 spread has rapidly made every sector of human life feel its effects immediately . This condition forces educational institutions including LPTK to make breakthroughs related to learning methods and models .  In anticipation of all the possibilities in relation to the outbreak of the Covid-19 pandemic in a report titled “A framework to guide an education response to the COVID-19 Pandemic of 2020” several checklists for the education response are outlined .  On campus along with the Covid-19 pandemic case the learning that has been carried out using face-to-face or offline methods suddenly has to change to the online method . However in terms of assessment if it refers to the 2013 Curriculum it is very likely to be problematic because of the difficulty of conducting authentic assessments .  Circular of Minister of Education and Culture No. 36962/MPK. A/ HK/2020 dated 17 March 2020 concerning Online Learning and Working from Home to Prevent the Spread of Covid-19 . In point 4a emphasizes the implementation of online learning at home for students and students and in point 4b describes the process of teaching or lecturing from home .  The evaluation results also mentioned that as many as 25. 34% of students stated that lecturers were able to deliver course material online 45. 56% of the lecturers delivered the lecture material well . 64% understand the material very well .  This research was carried out in May 2020 which was included in the descriptive study by conducting a survey of PGSD FKIP UHO students who were scattered in all regencies/cities in Southeast Sulawesi . Data collection techniques were by using open and closed questionnaires with the research subjects of 316 students of the 2017 2018 and 2019 classes . Web-based questionnaires are becoming increasingly popular .  Data collection is related to the distribution of 316 PGSD FKIP UHO students during the online learning process in Covid-19 period spread across 17 Regencies / Cities in Southeast Sulawesi . Data obtained from students are in the form of . raw data collected online and converted in Excel format . Data are then processed based on the focus of this study .  Based on the data in Figure 1 it can be seen that during the Covid-19 period PGSD FKIP UHO students were concentrated in three main regions namely in Kendari City (25%) Muna Regency (17.41%) and Konawe Selatan Regency . Some students consider to stay temporarily in  Kendari during the online learning period because the internet network facilities are sufficient .  Almost all lecturers carried out online lectures by holding virtual meetings and facilitating student assignments with online classes with the Google Classroom and Edmodo appli- cations . However, lecturers still use supporting facilities such as email WhatsApp or by SMS .  The success of online learning cannot be separated from the availability of supporting learning infrastructure such as stable internet access access devices with the latest technology devices used for internet access as well as the presence of students who live in areas where there is no electricity network so that practical online learning very difficult to implement .  Only 29. 2% of students access the internet at their homes to study and complete assignments online from lecturers while 30. 4% look for areas with strong signals to access internet . Almost all students accessed the internet in online learning using mobile phones .  Data related to lectures are generally stored on student laptops so there are relatively obstacles to access them . Data in Figure 2 also shows that only a small percentage (9.1%) of students use laptops while studying online so the speed of doing their assignments has a delay time .  The challenge for the government is when Distance Learning (PJJ) is conducted online and implemented in areas where accessibility infrastructure and digital literacy are still low . More than half of internet users in Indonesia are in the Java region (55.7%) followed by Sumatra (21. 6%) Sulawesi-Maluku-Papua (10. 9%) Kalimantan (6.6%) and Bali and Nusa Tenggara 5.2% .  The above-mentioned facts will also contribute to the effectiveness of online learning in terms of ease of internet access for students who are located or domiciled in locations that are not covered by the internet network .  Number of Rural Villages/Urban Villages According to the Existence of Base Transceiver Station (BTS) Cellular Telephone Signal And GSM or CDMA Internet Signal 2018 BTS availability HP signal strength GSM/CDMA internet signal Regency/City Very Available NA Strong weak NA 4G/LTE 3G/H/GPRS NA Strong .  PGSD students’ written responses online by using google form . Nevertheless these constraints are a record of improvement as part of good reflection in the future .  The Covid-19 pandemic had a very significant impact on the educational aspect . Students must improve their skills in following the online learning process both independently and in groups and also be better able to adapt to the advancement of information technology .  The impact has implications for the readiness of lecturers and students in carrying out online or distance learning . Learning from offline to online cannot necessarily be carried out effectively . Online learning tools still lack support .  Online learning is an established learning paradigm that has a theoretical and practical appeal (Shalev- Shwartz 2011 p.  108) When the teacher or lecturer makes a shift from face to face learning to distance learning then the lecturer needs to adjust the strategy and material .  The description of students' perspective on online learning held by PGSD lecturers can be seen in Figure 3 . Of the five variables perceived based on the real condi- tions of what is experienced by students the findings that need enough attention from all parties are about 74. 2% of students who accumulatively perceive that online learning is less effective and ineffective .  The limited space for interaction between students and lecturers in online learning decreases the interest of students in participating in learning . Even from the data it also appears that the values of academic subjectivity will emerge because of the large Copyright © 2020 Jurnal Prima Edukasia .  The lecturer or teacher helps carry out virtual discussions among students provides homework and follows up with students individually . To facilitate these activities it takes the ability of lecturers or teachers to design learning content in an attractive multimedia form (Primamukti & Farozin 2018 Sharma 2013)  Many schools especially in Jakarta have applied the online assignment method to students . The assignment is carried out through various available social media especially WhatsApp groups . This is in line with the statement of the Secretary General of the Federation of Indonesian Teachers' Union .  Distance education is a teaching technique that makes students and instructors physically sepa- rated or separated by time . Instead of face-to-face learning this material and content is basically instructed by technology . The majority of teachers are not accustomed to applying online learning in the learning process before the covid-19 pandemic .  Learning online with Zoom and WhatsApp is only effective for theoretical and practicum subjects . Students showed their willingness to do learning with e-learning by 86.3% of students . Students supported the content where there were instructional materials that had to be done .  More than 30 percent of college students in the United States take at least one distance course . Online education is a reasonable choice either you are a teenager or an adult . One of the factors is its flexi- bility where online learning allows teachers and students to set their own pace .  The level of student dissatisfaction with online learning during the covid-19 period was relatively high (58. 4%) Of course many factors influence including the readiness of lecturers in carrying out learning because so far they still use face-to-face learning directly .  Online learning also promises to promote justice by giving students access to learning that might not be available such as accelerated courses in remote rural areas . Online learning can provide support to schools for all students . Experienced teachers can teach in individual environments and can meet the special needs of gifted students .  Students in the virtual learning process are concentrated in 3 main regencies/cities namely Kendari City Muna Regency and Konawe Selatan Regency . Students perceive that the implementation of virtual learning in the Covid-19 period has not been fully effective .  The effects of summer vacation on achievement test scores were studied in 1996 by Creswell and Nye B. Charlton K. Lindsay J. Greathouse .  Panduan pembelajaran jarak jauh Bagi guru selama sekolah tutup dan pandemi Covid-19 dengan semangat merdeka belajar .  Jurnal Prima Edukasia 8 (1) 2020 - 95 Rimba Hamid Izlan Sentryo Sakka Hasan authentic assessment in the textbook of curriculum 2013 . Menteri Pendidikan dan Kebudayaan Republik Indonesia. (2020) A framework to guide an education response to the COVID- 19 Pandemic of 2020.  Organisation for Economic Co-operation and Development.  Saifuddin M. F. Saifuddi F. I. I . I. J. Seno . (2020).  Revolusi pendidikan tinggi di tengah pandemi Covid-19. Com.\""
            ],
            "application/vnd.google.colaboratory.intrinsic+json": {
              "type": "string"
            }
          },
          "metadata": {},
          "execution_count": 91
        }
      ]
    },
    {
      "cell_type": "code",
      "source": [
        "print(f\"Word counts before summarization: {len(text)}\")\n",
        "print(f\"Word counts after summarization: {len(summary_text)}\")"
      ],
      "metadata": {
        "colab": {
          "base_uri": "https://localhost:8080/"
        },
        "id": "2cKrAvERGFfK",
        "outputId": "0b8e558d-09d9-4e14-9604-42725791986f"
      },
      "execution_count": 92,
      "outputs": [
        {
          "output_type": "stream",
          "name": "stdout",
          "text": [
            "Word counts before summarization: 41774\n",
            "Word counts after summarization: 10211\n"
          ]
        }
      ]
    },
    {
      "cell_type": "markdown",
      "source": [
        "### Predict"
      ],
      "metadata": {
        "id": "ABREbqq5GchR"
      }
    },
    {
      "cell_type": "code",
      "source": [
        "from IPython.display import clear_output\n",
        "!pip install transformers\n",
        "clear_output()"
      ],
      "metadata": {
        "id": "MkzTx8h5GdWW"
      },
      "execution_count": 67,
      "outputs": []
    },
    {
      "cell_type": "code",
      "source": [
        "from transformers import BertForQuestionAnswering\n",
        "from transformers import BertTokenizer\n",
        "import torch"
      ],
      "metadata": {
        "id": "eyrYeDR1Ghaz"
      },
      "execution_count": 68,
      "outputs": []
    },
    {
      "cell_type": "code",
      "source": [
        "def get_answer_using_bert(question, reference_text):\n",
        "    # Load fine-tuned model for QA\n",
        "    bert_model = BertForQuestionAnswering.from_pretrained('bert-large-uncased-whole-word-masking-finetuned-squad')\n",
        "\n",
        "    # Load Vocab as well\n",
        "    bert_tokenizer = BertTokenizer.from_pretrained('bert-large-uncased-whole-word-masking-finetuned-squad')\n",
        "\n",
        "    # Apply bert_tokenizer on input text\n",
        "    input_ids = bert_tokenizer.encode(question, reference_text, padding='longest', truncation=True, max_length=50, add_special_tokens=True)\n",
        "    input_tokens = bert_tokenizer.convert_ids_to_tokens(input_ids)\n",
        "\n",
        "    # Search index of first [SEP] token\n",
        "    sep_location = input_ids.index(bert_tokenizer.sep_token_id)\n",
        "    first_seg_len, second_seg_len = sep_location + 1, len(input_ids) - (sep_location + 1)\n",
        "    seg_embedding = [0] * first_seg_len + [1] * second_seg_len\n",
        "\n",
        "    # Run our example on model\n",
        "    model_scores = bert_model(torch.tensor([input_ids]), token_type_ids=torch.tensor([seg_embedding]))\n",
        "    ans_start_loc, ans_end_loc = torch.argmax(model_scores[0]), torch.argmax(model_scores[1])\n",
        "    result = ' '.join(input_tokens[ans_start_loc:ans_end_loc + 1])\n",
        "\n",
        "    # Return final result\n",
        "    result = result.replace(' ##', '')\n",
        "    return result"
      ],
      "metadata": {
        "id": "AxOeb7TNGj_Q"
      },
      "execution_count": 69,
      "outputs": []
    },
    {
      "cell_type": "code",
      "source": [
        "if __name__==\"__main__\":\n",
        "    reference_text = summary_text\n",
        "    question = input('Your question? \\n \\n')\n",
        "    print('\\n')\n",
        "    print(get_answer_using_bert(question, reference_text))"
      ],
      "metadata": {
        "colab": {
          "base_uri": "https://localhost:8080/"
        },
        "id": "69K4wqA6GlQJ",
        "outputId": "dd9069ae-65e6-4092-fbf9-443bdd585d4e"
      },
      "execution_count": 70,
      "outputs": [
        {
          "output_type": "stream",
          "name": "stdout",
          "text": [
            "Your question? \n",
            " \n",
            "what is the result of this research?\n",
            "\n",
            "\n"
          ]
        },
        {
          "output_type": "stream",
          "name": "stderr",
          "text": [
            "Be aware, overflowing tokens are not returned for the setting you have chosen, i.e. sequence pairs with the 'longest_first' truncation strategy. So the returned list will always be empty even if some tokens have been removed.\n"
          ]
        },
        {
          "output_type": "stream",
          "name": "stdout",
          "text": [
            "online learning and its problems in the covid - 19 emergency period\n"
          ]
        }
      ]
    },
    {
      "cell_type": "markdown",
      "source": [
        "### Conclusion\n",
        "After hundreds of empirical research, this summarizer works well with this kinds of hyperparameters:\n",
        "- max_chunk = 200\n",
        "- don't add complex regex formula\n",
        "- inference runtime: around 2 minutes"
      ],
      "metadata": {
        "id": "dFjJ_FLrcob7"
      }
    }
  ]
}