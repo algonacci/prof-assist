{
  "nbformat": 4,
  "nbformat_minor": 0,
  "metadata": {
    "colab": {
      "name": "QA_BERT_Squad_with_HuggingFace_Summarizer.ipynb",
      "provenance": []
    },
    "kernelspec": {
      "name": "python3",
      "display_name": "Python 3"
    },
    "language_info": {
      "name": "python"
    }
  },
  "cells": [
    {
      "cell_type": "markdown",
      "source": [
        "### Import Libraries"
      ],
      "metadata": {
        "id": "UrQ4fkQV22b3"
      }
    },
    {
      "cell_type": "code",
      "execution_count": 1,
      "metadata": {
        "id": "GpYuEoGP2hSD"
      },
      "outputs": [],
      "source": [
        "from IPython.display import clear_output"
      ]
    },
    {
      "cell_type": "code",
      "source": [
        "!pip install transformers\n",
        "!pip install pdfplumber\n",
        "!pip install Pillow==9.0.0\n",
        "clear_output()"
      ],
      "metadata": {
        "id": "oQoyMV1A25ub"
      },
      "execution_count": 2,
      "outputs": []
    },
    {
      "cell_type": "code",
      "source": [
        "from transformers import pipeline\n",
        "import pdfplumber\n",
        "import re\n",
        "from google.colab import drive"
      ],
      "metadata": {
        "id": "WgrdwLDV27uh"
      },
      "execution_count": 3,
      "outputs": []
    },
    {
      "cell_type": "code",
      "source": [
        "drive.mount('/content/drive/')"
      ],
      "metadata": {
        "colab": {
          "base_uri": "https://localhost:8080/"
        },
        "id": "pFRRS9Yn2-Ep",
        "outputId": "cc96d0d2-b10f-4a2c-cf21-a9da90b1e760"
      },
      "execution_count": 4,
      "outputs": [
        {
          "output_type": "stream",
          "name": "stdout",
          "text": [
            "Mounted at /content/drive/\n"
          ]
        }
      ]
    },
    {
      "cell_type": "markdown",
      "source": [
        "### Extract PDF"
      ],
      "metadata": {
        "id": "AAUP6gfk3BaZ"
      }
    },
    {
      "cell_type": "code",
      "source": [
        "def extract_pdf(directory):\n",
        "    all_text = ''\n",
        "    with pdfplumber.open(directory) as pdf:\n",
        "            for pdf_page in pdf.pages:\n",
        "                single_page_text = pdf_page.extract_text()\n",
        "                all_text = all_text + '\\n' + single_page_text\n",
        "        \n",
        "    return all_text"
      ],
      "metadata": {
        "id": "RWRVOs062_yS"
      },
      "execution_count": 5,
      "outputs": []
    },
    {
      "cell_type": "code",
      "source": [
        "doc = '/content/drive/MyDrive/Online learning and its problems in the Covid-19 emergency period.pdf'\n",
        "text = extract_pdf(doc)"
      ],
      "metadata": {
        "id": "YGNZN9zg3S6Y"
      },
      "execution_count": 74,
      "outputs": []
    },
    {
      "cell_type": "markdown",
      "source": [
        "### Chuck Text"
      ],
      "metadata": {
        "id": "vZPrpDdV3Ybx"
      }
    },
    {
      "cell_type": "code",
      "source": [
        "text = text.replace('.', '.<eos>')\n",
        "text = text.replace('?', '?<eos>')\n",
        "text = text.replace('!', '!<eos>')\n",
        "text = re.sub('\\\\+n', ' ', text)\n",
        "text = re.sub('\\n',\" \",text) # Remove every '\\n'\n",
        "text = re.sub('((www\\.[^\\s]+)|(https?://[^\\s]+)|(http?://[^\\s]+))',' ',text) # Remove every URL\n",
        "text = re.sub(':', ' ', text)\n",
        "text = re.sub(';', ' ', text)\n",
        "text = re.sub(',', ' ', text)\n",
        "text = re.sub('\\\\+', ' ', text)\n",
        "text = re.sub('  +', ' ', text) # Remove extra spaces\n",
        "sentences = text.split('<eos>')"
      ],
      "metadata": {
        "id": "iob-vOW83dEW"
      },
      "execution_count": 50,
      "outputs": []
    },
    {
      "cell_type": "code",
      "source": [
        "max_chunk = 100\n",
        "current_chunk = 0 \n",
        "chunks = []\n",
        "for sentence in sentences:\n",
        "    if len(chunks) == current_chunk + 1: \n",
        "        if len(chunks[current_chunk]) + len(sentence.split(' ')) <= max_chunk:\n",
        "            chunks[current_chunk].extend(sentence.split(' '))\n",
        "        else:\n",
        "            current_chunk += 1\n",
        "            chunks.append(sentence.split(' '))\n",
        "    else:\n",
        "        print(current_chunk)\n",
        "        chunks.append(sentence.split(' '))\n",
        "\n",
        "for chunk_id in range(len(chunks)):\n",
        "    chunks[chunk_id] = ' '.join(chunks[chunk_id])"
      ],
      "metadata": {
        "colab": {
          "base_uri": "https://localhost:8080/"
        },
        "id": "tS2N1jIR3kU4",
        "outputId": "ed8fc6de-93ab-4e30-b68f-a99ecc8089a5"
      },
      "execution_count": 59,
      "outputs": [
        {
          "output_type": "stream",
          "name": "stdout",
          "text": [
            "0\n"
          ]
        }
      ]
    },
    {
      "cell_type": "code",
      "source": [
        "len(chunks)"
      ],
      "metadata": {
        "colab": {
          "base_uri": "https://localhost:8080/"
        },
        "id": "dI_lp5h73uTv",
        "outputId": "d210079e-6c6b-4b97-f9cd-c2364559a81e"
      },
      "execution_count": 60,
      "outputs": [
        {
          "output_type": "execute_result",
          "data": {
            "text/plain": [
              "76"
            ]
          },
          "metadata": {},
          "execution_count": 60
        }
      ]
    },
    {
      "cell_type": "code",
      "source": [
        "summarizer = pipeline('summarization')"
      ],
      "metadata": {
        "colab": {
          "base_uri": "https://localhost:8080/"
        },
        "id": "D9w2ZQpF4aCV",
        "outputId": "5213448a-7d2c-4fb4-b418-94eabd78b418"
      },
      "execution_count": 61,
      "outputs": [
        {
          "output_type": "stream",
          "name": "stderr",
          "text": [
            "No model was supplied, defaulted to sshleifer/distilbart-cnn-12-6 (https://huggingface.co/sshleifer/distilbart-cnn-12-6)\n"
          ]
        }
      ]
    },
    {
      "cell_type": "code",
      "source": [
        "result = summarizer(chunks, max_length=500, min_length=30, do_sample=False)"
      ],
      "metadata": {
        "colab": {
          "base_uri": "https://localhost:8080/"
        },
        "id": "nh8Ki30X4Q0S",
        "outputId": "a7188774-0d31-4d3d-dcba-15f0f8e0f525"
      },
      "execution_count": 62,
      "outputs": [
        {
          "output_type": "stream",
          "name": "stderr",
          "text": [
            "Your max_length is set to 500, but you input_length is only 105. You might consider decreasing max_length manually, e.g. summarizer('...', max_length=52)\n",
            "Your max_length is set to 500, but you input_length is only 127. You might consider decreasing max_length manually, e.g. summarizer('...', max_length=63)\n",
            "Your max_length is set to 500, but you input_length is only 106. You might consider decreasing max_length manually, e.g. summarizer('...', max_length=53)\n",
            "Your max_length is set to 500, but you input_length is only 38. You might consider decreasing max_length manually, e.g. summarizer('...', max_length=19)\n",
            "Your max_length is set to 500, but you input_length is only 137. You might consider decreasing max_length manually, e.g. summarizer('...', max_length=68)\n",
            "Your max_length is set to 500, but you input_length is only 136. You might consider decreasing max_length manually, e.g. summarizer('...', max_length=68)\n",
            "Your max_length is set to 500, but you input_length is only 126. You might consider decreasing max_length manually, e.g. summarizer('...', max_length=63)\n",
            "Your max_length is set to 500, but you input_length is only 95. You might consider decreasing max_length manually, e.g. summarizer('...', max_length=47)\n",
            "Your max_length is set to 500, but you input_length is only 119. You might consider decreasing max_length manually, e.g. summarizer('...', max_length=59)\n",
            "Your max_length is set to 500, but you input_length is only 114. You might consider decreasing max_length manually, e.g. summarizer('...', max_length=57)\n",
            "Your max_length is set to 500, but you input_length is only 100. You might consider decreasing max_length manually, e.g. summarizer('...', max_length=50)\n",
            "Your max_length is set to 500, but you input_length is only 111. You might consider decreasing max_length manually, e.g. summarizer('...', max_length=55)\n",
            "Your max_length is set to 500, but you input_length is only 145. You might consider decreasing max_length manually, e.g. summarizer('...', max_length=72)\n",
            "Your max_length is set to 500, but you input_length is only 134. You might consider decreasing max_length manually, e.g. summarizer('...', max_length=67)\n",
            "Your max_length is set to 500, but you input_length is only 111. You might consider decreasing max_length manually, e.g. summarizer('...', max_length=55)\n",
            "Your max_length is set to 500, but you input_length is only 93. You might consider decreasing max_length manually, e.g. summarizer('...', max_length=46)\n",
            "Your max_length is set to 500, but you input_length is only 179. You might consider decreasing max_length manually, e.g. summarizer('...', max_length=89)\n",
            "Your max_length is set to 500, but you input_length is only 91. You might consider decreasing max_length manually, e.g. summarizer('...', max_length=45)\n",
            "Your max_length is set to 500, but you input_length is only 118. You might consider decreasing max_length manually, e.g. summarizer('...', max_length=59)\n",
            "Your max_length is set to 500, but you input_length is only 116. You might consider decreasing max_length manually, e.g. summarizer('...', max_length=58)\n",
            "Your max_length is set to 500, but you input_length is only 94. You might consider decreasing max_length manually, e.g. summarizer('...', max_length=47)\n",
            "Your max_length is set to 500, but you input_length is only 103. You might consider decreasing max_length manually, e.g. summarizer('...', max_length=51)\n",
            "Your max_length is set to 500, but you input_length is only 145. You might consider decreasing max_length manually, e.g. summarizer('...', max_length=72)\n",
            "Your max_length is set to 500, but you input_length is only 58. You might consider decreasing max_length manually, e.g. summarizer('...', max_length=29)\n",
            "Your max_length is set to 500, but you input_length is only 86. You might consider decreasing max_length manually, e.g. summarizer('...', max_length=43)\n",
            "Your max_length is set to 500, but you input_length is only 87. You might consider decreasing max_length manually, e.g. summarizer('...', max_length=43)\n",
            "Your max_length is set to 500, but you input_length is only 53. You might consider decreasing max_length manually, e.g. summarizer('...', max_length=26)\n",
            "Your max_length is set to 500, but you input_length is only 109. You might consider decreasing max_length manually, e.g. summarizer('...', max_length=54)\n",
            "Your max_length is set to 500, but you input_length is only 139. You might consider decreasing max_length manually, e.g. summarizer('...', max_length=69)\n",
            "Your max_length is set to 500, but you input_length is only 106. You might consider decreasing max_length manually, e.g. summarizer('...', max_length=53)\n",
            "Your max_length is set to 500, but you input_length is only 114. You might consider decreasing max_length manually, e.g. summarizer('...', max_length=57)\n",
            "Your max_length is set to 500, but you input_length is only 129. You might consider decreasing max_length manually, e.g. summarizer('...', max_length=64)\n",
            "Your max_length is set to 500, but you input_length is only 72. You might consider decreasing max_length manually, e.g. summarizer('...', max_length=36)\n",
            "Your max_length is set to 500, but you input_length is only 86. You might consider decreasing max_length manually, e.g. summarizer('...', max_length=43)\n",
            "Your max_length is set to 500, but you input_length is only 142. You might consider decreasing max_length manually, e.g. summarizer('...', max_length=71)\n",
            "Your max_length is set to 500, but you input_length is only 87. You might consider decreasing max_length manually, e.g. summarizer('...', max_length=43)\n",
            "Your max_length is set to 500, but you input_length is only 67. You might consider decreasing max_length manually, e.g. summarizer('...', max_length=33)\n",
            "Your max_length is set to 500, but you input_length is only 449. You might consider decreasing max_length manually, e.g. summarizer('...', max_length=224)\n",
            "Your max_length is set to 500, but you input_length is only 97. You might consider decreasing max_length manually, e.g. summarizer('...', max_length=48)\n",
            "Your max_length is set to 500, but you input_length is only 120. You might consider decreasing max_length manually, e.g. summarizer('...', max_length=60)\n",
            "Your max_length is set to 500, but you input_length is only 68. You might consider decreasing max_length manually, e.g. summarizer('...', max_length=34)\n",
            "Your max_length is set to 500, but you input_length is only 90. You might consider decreasing max_length manually, e.g. summarizer('...', max_length=45)\n",
            "Your max_length is set to 500, but you input_length is only 117. You might consider decreasing max_length manually, e.g. summarizer('...', max_length=58)\n",
            "Your max_length is set to 500, but you input_length is only 124. You might consider decreasing max_length manually, e.g. summarizer('...', max_length=62)\n",
            "Your max_length is set to 500, but you input_length is only 84. You might consider decreasing max_length manually, e.g. summarizer('...', max_length=42)\n",
            "Your max_length is set to 500, but you input_length is only 116. You might consider decreasing max_length manually, e.g. summarizer('...', max_length=58)\n",
            "Your max_length is set to 500, but you input_length is only 103. You might consider decreasing max_length manually, e.g. summarizer('...', max_length=51)\n",
            "Your max_length is set to 500, but you input_length is only 122. You might consider decreasing max_length manually, e.g. summarizer('...', max_length=61)\n",
            "Your max_length is set to 500, but you input_length is only 146. You might consider decreasing max_length manually, e.g. summarizer('...', max_length=73)\n",
            "Your max_length is set to 500, but you input_length is only 99. You might consider decreasing max_length manually, e.g. summarizer('...', max_length=49)\n",
            "Your max_length is set to 500, but you input_length is only 91. You might consider decreasing max_length manually, e.g. summarizer('...', max_length=45)\n",
            "Your max_length is set to 500, but you input_length is only 191. You might consider decreasing max_length manually, e.g. summarizer('...', max_length=95)\n",
            "Your max_length is set to 500, but you input_length is only 115. You might consider decreasing max_length manually, e.g. summarizer('...', max_length=57)\n",
            "Your max_length is set to 500, but you input_length is only 79. You might consider decreasing max_length manually, e.g. summarizer('...', max_length=39)\n",
            "Your max_length is set to 500, but you input_length is only 119. You might consider decreasing max_length manually, e.g. summarizer('...', max_length=59)\n",
            "Your max_length is set to 500, but you input_length is only 92. You might consider decreasing max_length manually, e.g. summarizer('...', max_length=46)\n",
            "Your max_length is set to 500, but you input_length is only 152. You might consider decreasing max_length manually, e.g. summarizer('...', max_length=76)\n",
            "Your max_length is set to 500, but you input_length is only 120. You might consider decreasing max_length manually, e.g. summarizer('...', max_length=60)\n",
            "Your max_length is set to 500, but you input_length is only 121. You might consider decreasing max_length manually, e.g. summarizer('...', max_length=60)\n",
            "Your max_length is set to 500, but you input_length is only 102. You might consider decreasing max_length manually, e.g. summarizer('...', max_length=51)\n",
            "Your max_length is set to 500, but you input_length is only 112. You might consider decreasing max_length manually, e.g. summarizer('...', max_length=56)\n",
            "Your max_length is set to 500, but you input_length is only 108. You might consider decreasing max_length manually, e.g. summarizer('...', max_length=54)\n",
            "Your max_length is set to 500, but you input_length is only 110. You might consider decreasing max_length manually, e.g. summarizer('...', max_length=55)\n",
            "Your max_length is set to 500, but you input_length is only 85. You might consider decreasing max_length manually, e.g. summarizer('...', max_length=42)\n",
            "Your max_length is set to 500, but you input_length is only 94. You might consider decreasing max_length manually, e.g. summarizer('...', max_length=47)\n",
            "Your max_length is set to 500, but you input_length is only 116. You might consider decreasing max_length manually, e.g. summarizer('...', max_length=58)\n",
            "Your max_length is set to 500, but you input_length is only 26. You might consider decreasing max_length manually, e.g. summarizer('...', max_length=13)\n",
            "Your max_length is set to 500, but you input_length is only 135. You might consider decreasing max_length manually, e.g. summarizer('...', max_length=67)\n",
            "Your max_length is set to 500, but you input_length is only 159. You might consider decreasing max_length manually, e.g. summarizer('...', max_length=79)\n",
            "Your max_length is set to 500, but you input_length is only 243. You might consider decreasing max_length manually, e.g. summarizer('...', max_length=121)\n",
            "Your max_length is set to 500, but you input_length is only 223. You might consider decreasing max_length manually, e.g. summarizer('...', max_length=111)\n",
            "Your max_length is set to 500, but you input_length is only 204. You might consider decreasing max_length manually, e.g. summarizer('...', max_length=102)\n",
            "Your max_length is set to 500, but you input_length is only 171. You might consider decreasing max_length manually, e.g. summarizer('...', max_length=85)\n",
            "Your max_length is set to 500, but you input_length is only 189. You might consider decreasing max_length manually, e.g. summarizer('...', max_length=94)\n",
            "Your max_length is set to 500, but you input_length is only 180. You might consider decreasing max_length manually, e.g. summarizer('...', max_length=90)\n",
            "Your max_length is set to 500, but you input_length is only 206. You might consider decreasing max_length manually, e.g. summarizer('...', max_length=103)\n"
          ]
        }
      ]
    },
    {
      "cell_type": "code",
      "source": [
        "result[20]['summary_text']"
      ],
      "metadata": {
        "id": "vUlsiSko57Iq",
        "colab": {
          "base_uri": "https://localhost:8080/",
          "height": 53
        },
        "outputId": "21d80ffe-4ad7-4d6e-dc1e-09fefc67498d"
      },
      "execution_count": 73,
      "outputs": [
        {
          "output_type": "execute_result",
          "data": {
            "text/plain": [
              "' Data collection related to distribution of 316 PGSD FKIP UHO students during the online learning process in Covid-19 period spread across 17 Regencies / Cities in Southeast Sulawesi . Figure 1 shows the distribution of students at each location of domicile .'"
            ],
            "application/vnd.google.colaboratory.intrinsic+json": {
              "type": "string"
            }
          },
          "metadata": {},
          "execution_count": 73
        }
      ]
    },
    {
      "cell_type": "code",
      "source": [
        "summary_text = ' '.join([summ['summary_text'] for summ in result])"
      ],
      "metadata": {
        "id": "tju3_TT-6DUY"
      },
      "execution_count": 75,
      "outputs": []
    },
    {
      "cell_type": "code",
      "source": [
        "summary_text"
      ],
      "metadata": {
        "id": "19YlaNte6Ef4",
        "colab": {
          "base_uri": "https://localhost:8080/",
          "height": 140
        },
        "outputId": "bfe7ed29-4ca5-4c56-c64e-ac4d169ea88e"
      },
      "execution_count": 76,
      "outputs": [
        {
          "output_type": "execute_result",
          "data": {
            "text/plain": [
              "' Online learning and its problems in the Covid-19 emergency period Rimba Hamid . Available online at Jurnal Prima Edu-asia 8 (1) 2020 86-95 .  This research aims to obtain an in-depth description of distribution of students of PGSD FKIP UHO . It aims to get a description about (1) distribution of the students of (1), (2) infrastructure support for the effectiveness of online learning in the Covid-19 period and (3) students\\' perceptions about online learning .  Data collection techniques were those using open and closed questionnaires with 316 students of 2017 2018 and 2019 classes who filled out questionnaires online . Data obtained from students in the form of . raw data collected online and converted in Excel format .  The data were then processed based on the focus of this study . An in-depth descriptive quantitative and qualitative analysis was carried out . Based on the results of the processed data an analysis was conducted .  The study showed that PGSD FKIP UHO students in the online learning process concentrated on 3 main regencies/cities namely Kendari City Muna Regency and Konawe Selatan Regency . Students perceived that the implementation of online learning during the Covid-19 period has not been fully effective .  Corona Virus Disease (Covid-19) pandemic or plague has struck more than 200 countries in the world . The government has issued various policies from isolation social and physical distancing to Large-Scale Social Restrictions (PSBB)  Covid-19 is a new viral infection that resulted in the infection of 90 308 people as of March 2 2020 . This virus began in Wuhan China on December 31 2019 . The virus is a single positive RNA strain infects the respiratory tract .  The availability of literature on Covid-19 in relation to educational studies has not been very much . Education studies in education rarely include the effects of disease on providing effective education for students around the world .  This condition forces educational institutions including LPTK to make breakthroughs related to learning methods and models that must be chosen so that learning continues even though it is done virtually (online) with all the consequences of limitations including those of lecturers who do not yet .  A report titled “A framework to guide an education response to the COVID-19 Pandemic of 2020” has outlined several checklists for the education response . When feasible it must include online learning as it provides flexibility and opportunities for interaction .  Explore partnerships with the private sectors and the community in securing the resources provided by these devices and connectivity . Create a website to communicate with teachers students and parents about curriculum goals suggested strategies and activities and additional resources .  In terms of assessment if it refers to the 2013 Curriculum it is very likely to be problematic because of the difficulty of conducting authentic assessments that refer to assessment stand-ards which consist of (1) attitude competency assessment through observation self-assessment peer assessment by students .  On campus along with the Covid-19 pandemic case the learning that has been carried out using face-to-face or offline methods suddenly has to change to the online method .  Circular of Minister of Education and Culture No. 36962/MPK. A/ HK/2020 concerning Online Learning and Working from Home to Prevent the Spread of Covid-19 .  Learning facilities and the websites as stated in this Circular Letter can be seen in the following Table 1 Table 1 . Based on the results of an evaluation by Kemdikbud online learning conducted by lecturers and students, online learning runs quite effectively even though changes occur in relatively short time .  As many as 25. 34% of students stated that lecturers were able to deliver course material online 45. 56% of the lecturers delivered the lecture material well .  The main purpose of this research is to obtain an in-depth overview of (1) distribution of PGSD FKIP UHO students based on domicile in carrying out online learning in the Covid-19 pandemic .  Research was carried out in May 2020 which was included in the descriptive study by conducting a survey of PGSD FKIP UHO students . Data collection techniques were by using open and closed questionnaires with the research subjects of 316 students of the 2017 2018 and 2019 classes .  Survey research design is a procedure in quantitative research in which the researcher administers the survey to a sample or population of people to describe the attitudes opinions behaviors or special characteristics of the population . With the increasing use of Websites and the Internet Web-based questionnaires are becoming increasingly popular .  The aspects contained in the questionnaire are spread of students supporting infrastructure and student perceptions in online learn- ing organized by lecturers during the Covid-19 period . Second validating instruments with colleagues (Head of Department) specifically with regard to content and construct validity .  Data collection related to distribution of 316 PGSD FKIP UHO students during the online learning process in Covid-19 period spread across 17 Regencies / Cities in Southeast Sulawesi . Figure 1 shows the distribution of students at each location of domicile .  Konut regency Bau-Bau city Koltim regency Kolut . Konsel regency Bombana regency Mubar . Mubar regency Konawe regency Wakatobi . Butur regency Buton regency .  Based on the data in Figure 1 it can be seen that during the Covid-19 period PGSD FKIP UHO students were concentrated in three main regions namely in Kendari City (25%) Muna Regency (17. 41%) and Konawe Selatan Regency .  Some students consider to stay temporarily in Kendari during the online learning period because the internet network facilities are sufficient not to mention during the Covid-19 emergency there are restrictions on human movement .  The mobility of students during online lectures or online assignments forces them to find locations that allow them to access an adequate network for online lectures . This is known from the data of Lecturer Evaluation by Student (EDOM) for the even semester of 2019 .  Survey finds that almost all lecturers carried out online lectures by holding virtual meetings and facilitating student assignments with online classes with Google Classroom and Edmodo appli- cations . Students found that lecturers often give assignments online but rarely return them to students .  There are still lecturers who only use supporting facilities such as WhatsApp or by SMS in accordance with the level of information technology capabilities they have . It will complicate and make the online learning process less effective .  The success of online learning cannot be separated from the availability of supporting learning infrastructure such as stable internet access access devices with the latest technology devices used for internet access . The presence of students who live in areas where there is no electricity network so that practical online learning very difficult to implement .  Figure 2: 90 2 90 9 68 3 47 3 33 26 3 29 2 30 4 18 7 18 4 15 5 1 4 4 1 7 4 2 4 6 4 9 1 0 elbats yreV hguone elbats toN elbatsnU langis on G2 G3 G4 G5 sruoh 42 .  81.3% of PGSD students access the internet with a less stable to unstable carrying capacity . This is the main complaint of students in online learning during the Covid-19 period . Only 29. 2% of students access internet at their homes to study and complete assignments online from lecturers .  There were still as many as 15. 5% of students who were just waiting for information from other students who have first obtained information online assignments from lecturers . Almost all students (90.5%) were able to access the internet during the Covid-19 pandemic .  9% of students accessed the internet in online learning using mobile phones . The internet is closely related to public computer networks throughout the world . Internet provides access to a number of communication services including World Wide Web .  Data related to lectures are generally stored on student laptops so there are relatively obstacles to access them . Data in Figure 2 also shows that only a small percentage (9.5%) of students use cell phones in learning .  1% of students use laptops while studying online so the speed of doing their assignments has a delay time . This condition certainly requires adaptation for students in preparing themselves for future online lectures .  The challenge for the government is when Distance Learning (PJJ) is conducted online and implemented in areas where accessibility infrastructure and digital literacy are still low . Based on the results of the 2018 APJII National Internet User Penetration survey the distribution of data shows that more than half of internet users in Indonesia are in the Java region .  One of the difficulties encounter- ed in the process of learning from home is the limitations of the internet both from the availability of networks and credit balance to access online learning . The above-mentioned facts will also contribute to the effectiveness of online learning in terms of ease of internet access for students .  The following is a rural village / urban village profile according to the existence of Base Transceiver Station (BTS) Cellular Telephone Signal and GSM or CDMA Internet Signal in Southeast Sulawesi .  Number of Rural Villages/Urban Villages According to the Existence of Base Transceiver Station (BTS) Cellular Telephone Signal And GSM or CDMA Internet Signal 2018 BTS availability HP signal strength GSM/CDMA internet signal Regency/City Very Available NA Strong weak NA 4G/LTE 3G/H/GPRS NA Strong .  Jurnal Prima Edukasia 8 (1) 2020 - 91 Rimba Hamid Izlan Sentryo Sakka Hasan . Hasan two courses but 10 courses . Hasan: \"I do not understand the material that has been given.  Second wasteful internet data packages\"  PGSD students’ written responses online by using google form . Students suggest that during the online learning process the lecturer gives the right time and not suddenly when going to do online lectures .  Online learning can be minimized by better preparing for online learning by lecturers who have limited ability to organize online classes for example using the google classroom application storing data on an online drive .  The Covid-19 pandemic had a very significant impact on the educational aspect . Students must improve their skills in following the online learning process both independently and in groups .  The impacts are (a) Changing learning system from face-to-face learning conducted as usual to a distance learning system (online) Learning from offline to online cannot necessarily be carried out effectively . Online learning tools still lack support . Network access additional costs for students and (f) The competence of lecturers needs to be prepared in designing online-based learning .  The impact has implications for the readiness of lecturers and students in carrying out online or distance learning which is of course very different from face-to-face learning . As explained in the \"Distance Learning Guide Learning at Home C-19\" that there are three main tasks in designing and implementing distance learning .  Online learning is an established learning paradigm that has a theoretical and practical appeal . When the teacher or lecturer makes a shift from face to face learning to distance learning then the fundamental thing is how the lecturer needs to adjust the strategy and material .  What needs to be considered by lecturers in implementing online learning are (1) Ensuring the technology platforms equipment and resources available to lecturers and students . The considerations are (a) Which of these resources can be used by all or most students and which are the easiest to use for communication direct instruction discussion .  In the context of face-to-face learning interaction between lecturers and students is an important key . In online learning not only is the readiness of the lecturers but other factors that cannot be ruled out are how students perceive the online learning itself .  The description of students\\' perspective on online learning held by PGSD lecturers can be seen in Figure 3 . Of the five variables perceived based on the real condi- tions of what is experienced by students the findings that need enough attention from all parties are about the 74. 2% who accumulatively perceive that online learning is less effective and ineffective .  3% of students feel less satisfied and dissatisfied with online learning in the Covid-19 period . 66. 2% say they copy-paste in carrying out online assignments from lecturers .  The limited space for interaction between students and lecturers in online learning decreases the interest of students in participating in learning . The factor of learning difficulties online is very possible if done synchronously for example by using virtual meeting applications such as Google Meet Zoom .  Lecturers can use more flexible alternatives with asynchronous online learning for example through supporting applications such as online classes WhatsApp or uploading assignments in the form of video analysis or learning content uploaded on their lecturers\\' You Tube Channel .  Ineffective 4 4 nevitceffEinrael LO Less eEffffeeccttiivvee 25 8 69 8 etsap-ypoCstnemngissa SomAeNltwiemaveeyssr .  Teachers and students in many cases are asked to interact with each other virtually (Loeb 2020) This is in line with the statement of the Secretary General of the Federation of Indonesian Teachers\\' Union Heru Purnomo .  The assignment is carried out through various available social media especially WhatsApp groups . He considers in an emergency due to the corona virus as it is now it is seen to be effective in distance learning . Consequently the intro- duction of the concept of a lesson as applied in face-to-face learning cannot work well .  The majority of teachers are not accustomed to applying online learning in the learning process before the covid-19 pandemic . The results of the teacher survey show that teachers who are already accustomed to using online learning (digital-based) continuously in the classroom are only (8%)  Online PJJ is not optimal when majority of teachers are not accustomed to applying online learning in the learning process before the covid-19 pandemic . Results of a teacher survey show that teachers who are already accustomed to using online learning (digital-based) continuously in the classroom are only (8%)  There are even teachers who have never carried out online learning before this crisis (9%)  Distance education is a teaching technique that makes students and instructors physically sepa- rated or separated by time . Instead of face-to-face learning this material and content is basically instructed by technology .  Learning online with Zoom and WhatsApp is only effective for theoretical and practicum subjects . In practice courses and online course subjects are less effective . Understanding the benefits of e-learning and student characteristics can provide an important key to promoting student success in online learning .  Students showed their willingness to do learning with e-learning by 86. 3% besides that students supported the content where there were instructional materials that had to be done in class as well as material that could be learned before learning face to face .  More than 30 percent of college students in the United States take at least one distance course . The need to develop learning by combining e-learning with learning models and teaching materials that are in accordance with the characteristics of the material .  Online education can be a useful learning method to hone your skills in difficult subjects or learn new skills . One of the factors is its flexi- bility where online learning allows teachers and students to set their own pace of learning and there is additional flexibility in organizing schedules that fit everyone\\'s agenda .  Studying online teaches you vital time management skills which make finding good work-study balance easier . Having a shared agenda between students and teachers can also encourage both parties to accept new responsibilities .  If online learning is well prepared especially the content of teaching material it will attract students to be involved in it . This is supported by research results from Ali et al. (2011 p.  123) which show that the majority of students on campus have a high level of satisfaction with student- lecturer interaction .  Online learning promises to promote justice by giving students access to learning that might not be available such as accelerated courses in remote rural areas . By keep- ing in mind the diversity of students and geographical boundaries online learning can provide support to schools for all students .  Covid-19 is the initial stage of an offline learning revolution towards on line . Experienced teachers can teach in individual environments and can meet the special needs of gifted students and students who are trying to learn .  There is the need for more precise formulations in overcoming it all for example starting from issuing a policy of providing financial assistance (money) to each student to buy internet credit balance or by replacing online lectures with other learning that is easy to implement for those .  There are many options to deal with this for the sake of creating effective learning that can run optimally .  I think there is many options, and I hope there will be many more .  PGSD FKIP UHO students in the virtual learning process are concentrated in 3 main regencies/cities namely Kendari City Muna Regency and Konawe Selatan Regency . Students perceive that the implementation of virtual learning in the Covid-19 period has not been fully effective .  Ali A. Ramay, Ramay M. I. I . I . Ramay & Shahzad M. A. I: Key factors for determining student satisfaction in distance learning courses A study of Allama Iqbal Open University (AIOU) Islamabad Pakistan .  Ashari M. Ashari: Proses pembejalaran daring di tengah antisipasi penyebaran virus corona dinilai belum maksimal .  Pustaka Belajar.  (2015).  Riset pendidikan perencanaan pelaksanaan . evaluasi riset kualitatif . dan kuantitat if (V)   (2020). Panduan pembelajaran jarak jauh Bagi guru selama sekolah tutup .  Pembelajaran daring masa pandemik Covid-19 pada calon guru Hambatan solusi . In Karya Tulis Ilmiah UIN Sunan Gunung Djati Bandung .  Jurnal Prima Edukasia 8 (1) 2020 - 95 Rimba Hamid Izlan Sentryo Sakka Hasan authentic assessment in the textbook of curriculum 2013 . Menteri Pendidikan dan Kebudayaan Republik Indonesia .  A/HK/2020 tentang pembelajaran secara daring dan bekerja dari rumah dalam rangka pencegahan penyebaran Corona Virus Disease (COVID-19)  A framework to guide an education response to the COVID- 19 Pandemic of 2020. Organisation for Economic Co-operation and Development.  Saifuddin M. F. Saifudar F. (2020).  Saifiuddin M  F. F . (2020) A framework . to guide . an education . response to an education crisis of 2020 .  2020 Jurnal Prima Edukasia ISSN 2338-4743 (print) ISSN 2460-9927 (online) Yuliana Y. Sintema E. J. Winahyu A. I. I (2020) (2020).  Effect of COVID-19 on the performance of grade 12 students implications for STEM education .'"
            ],
            "application/vnd.google.colaboratory.intrinsic+json": {
              "type": "string"
            }
          },
          "metadata": {},
          "execution_count": 76
        }
      ]
    },
    {
      "cell_type": "code",
      "source": [
        "!pip install transformers\n",
        "!pip install pdfplumber\n",
        "clear_output()"
      ],
      "metadata": {
        "id": "frfOhxBWGW1p"
      },
      "execution_count": null,
      "outputs": []
    },
    {
      "cell_type": "code",
      "source": [
        "print(f\"Word counts before summarization: {len(text)}\")\n",
        "print(f\"Word counts after summarization: {len(summary_text)}\")"
      ],
      "metadata": {
        "colab": {
          "base_uri": "https://localhost:8080/"
        },
        "id": "2cKrAvERGFfK",
        "outputId": "4299d5cb-e8cf-44da-fe56-69f64d42c43f"
      },
      "execution_count": 77,
      "outputs": [
        {
          "output_type": "stream",
          "name": "stdout",
          "text": [
            "Word counts before summarization: 42650\n",
            "Word counts after summarization: 19417\n"
          ]
        }
      ]
    },
    {
      "cell_type": "markdown",
      "source": [
        "### Predict"
      ],
      "metadata": {
        "id": "ABREbqq5GchR"
      }
    },
    {
      "cell_type": "code",
      "source": [
        "from IPython.display import clear_output\n",
        "!pip install transformers\n",
        "clear_output()"
      ],
      "metadata": {
        "id": "MkzTx8h5GdWW"
      },
      "execution_count": 78,
      "outputs": []
    },
    {
      "cell_type": "code",
      "source": [
        "from transformers import BertForQuestionAnswering\n",
        "from transformers import BertTokenizer\n",
        "import torch"
      ],
      "metadata": {
        "id": "eyrYeDR1Ghaz"
      },
      "execution_count": 79,
      "outputs": []
    },
    {
      "cell_type": "code",
      "source": [
        "def get_answer_using_bert(question, reference_text):\n",
        "    # Load fine-tuned model for QA\n",
        "    bert_model = BertForQuestionAnswering.from_pretrained('bert-large-uncased-whole-word-masking-finetuned-squad')\n",
        "\n",
        "    # Load Vocab as well\n",
        "    bert_tokenizer = BertTokenizer.from_pretrained('bert-large-uncased-whole-word-masking-finetuned-squad')\n",
        "\n",
        "    # Apply bert_tokenizer on input text\n",
        "    input_ids = bert_tokenizer.encode(question, reference_text, padding='longest', truncation=True, max_length=50, add_special_tokens=True)\n",
        "    input_tokens = bert_tokenizer.convert_ids_to_tokens(input_ids)\n",
        "\n",
        "    # Search index of first [SEP] token\n",
        "    sep_location = input_ids.index(bert_tokenizer.sep_token_id)\n",
        "    first_seg_len, second_seg_len = sep_location + 1, len(input_ids) - (sep_location + 1)\n",
        "    seg_embedding = [0] * first_seg_len + [1] * second_seg_len\n",
        "\n",
        "    # Run our example on model\n",
        "    model_scores = bert_model(torch.tensor([input_ids]), token_type_ids=torch.tensor([seg_embedding]))\n",
        "    ans_start_loc, ans_end_loc = torch.argmax(model_scores[0]), torch.argmax(model_scores[1])\n",
        "    result = ' '.join(input_tokens[ans_start_loc:ans_end_loc + 1])\n",
        "\n",
        "    # Return final result\n",
        "    result = result.replace(' ##', '')\n",
        "    return result"
      ],
      "metadata": {
        "id": "AxOeb7TNGj_Q"
      },
      "execution_count": 80,
      "outputs": []
    },
    {
      "cell_type": "code",
      "source": [
        "if __name__==\"__main__\":\n",
        "    reference_text = summary_text\n",
        "    question = input('Your question? \\n \\n')\n",
        "    print('\\n')\n",
        "    print(get_answer_using_bert(question, reference_text))"
      ],
      "metadata": {
        "colab": {
          "base_uri": "https://localhost:8080/"
        },
        "id": "69K4wqA6GlQJ",
        "outputId": "be0ebf93-878a-48bb-a8a1-b7bc34f9eb39"
      },
      "execution_count": 86,
      "outputs": [
        {
          "output_type": "stream",
          "name": "stdout",
          "text": [
            "Your question? \n",
            " \n",
            "what is the result of this research?\n",
            "\n",
            "\n"
          ]
        },
        {
          "output_type": "stream",
          "name": "stderr",
          "text": [
            "Be aware, overflowing tokens are not returned for the setting you have chosen, i.e. sequence pairs with the 'longest_first' truncation strategy. So the returned list will always be empty even if some tokens have been removed.\n"
          ]
        },
        {
          "output_type": "stream",
          "name": "stdout",
          "text": [
            "online learning and its problems in the covid - 19 emergency period\n"
          ]
        }
      ]
    }
  ]
}