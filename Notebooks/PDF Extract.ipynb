{
 "cells": [
  {
   "cell_type": "code",
   "execution_count": 6,
   "id": "7c92f970",
   "metadata": {},
   "outputs": [],
   "source": [
    "import pdfplumber"
   ]
  },
  {
   "cell_type": "code",
   "execution_count": 2,
   "id": "ae66c382",
   "metadata": {},
   "outputs": [],
   "source": [
    "def extract_pdf(directory):\n",
    "    all_text = ''\n",
    "    with pdfplumber.open(directory) as pdf:\n",
    "            for pdf_page in pdf.pages:\n",
    "                single_page_text = pdf_page.extract_text()\n",
    "                all_text = all_text + '\\n' + single_page_text\n",
    "        \n",
    "    return all_text"
   ]
  },
  {
   "cell_type": "code",
   "execution_count": 7,
   "id": "8764e697",
   "metadata": {},
   "outputs": [],
   "source": [
    "doc = 'EMARKETING TEXTBOOK FOR PROFASSIST.pdf'\n",
    "doc_text = extract_pdf(doc)"
   ]
  },
  {
   "cell_type": "code",
   "execution_count": 5,
   "id": "65f356be",
   "metadata": {},
   "outputs": [
    {
     "name": "stdout",
     "output_type": "stream",
     "text": [
      "\n",
      "3/31/22, 6:20 PM Purchase Confirmation\n",
      "Thank you for making your purchase.\n",
      "An email has been sent to you confirming this purchase and providing details on the\n",
      "assessment(s) purchased.\n",
      "Candidate Name : Dino Febriyanto\n",
      "Google Cloud Certified - Cloud Digital\n",
      "Assessment:\n",
      "Leader (English)\n",
      "Scheduled Date: Sunday, 10 April 2022\n",
      "Start Time: 11:00 (UTC+07:00)\n",
      "Quantity Item Price Total\n",
      "Google Cloud Certified - Cloud Digital Leader USD USD\n",
      "1\n",
      "(English) 59.40 59.40\n",
      "Applied Voucher Google Cloud Certified - -100%\n",
      "  Cloud Digital Leader (English)   (USD\n",
      "Arr92r2eemd2hByR 59.40)\n",
      "USD\n",
      "Total Price:\n",
      "0.00\n",
      "Order Date: 31 March 2022\n",
      "Kryterion, Inc. 7776 S Pointe Pkwy W #200, Phoenix, AZ 85044 | TIN: 86-0940055\n",
      "https://www.webassessor.com/form/shoppingCart.do 1/1\n"
     ]
    }
   ],
   "source": [
    "print(doc_text)"
   ]
  },
  {
   "cell_type": "code",
   "execution_count": null,
   "id": "be3cd497",
   "metadata": {},
   "outputs": [],
   "source": []
  }
 ],
 "metadata": {
  "kernelspec": {
   "display_name": "Python 3 (ipykernel)",
   "language": "python",
   "name": "python3"
  },
  "language_info": {
   "codemirror_mode": {
    "name": "ipython",
    "version": 3
   },
   "file_extension": ".py",
   "mimetype": "text/x-python",
   "name": "python",
   "nbconvert_exporter": "python",
   "pygments_lexer": "ipython3",
   "version": "3.9.7"
  }
 },
 "nbformat": 4,
 "nbformat_minor": 5
}
