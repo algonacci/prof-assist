{
 "cells": [
  {
   "cell_type": "code",
   "execution_count": 36,
   "id": "6056d91f",
   "metadata": {},
   "outputs": [],
   "source": [
    "from transformers import AutoModelForQuestionAnswering, AutoTokenizer, pipeline\n",
    "import pickle\n",
    "import pdfplumber\n",
    "import torch\n",
    "import wikipedia as wiki\n",
    "from collections import OrderedDict\n"
   ]
  },
  {
   "cell_type": "code",
   "execution_count": 2,
   "id": "8f0bc6be",
   "metadata": {},
   "outputs": [],
   "source": [
    "def extract_pdf(directory):\n",
    "    all_text = ''\n",
    "    with pdfplumber.open(directory) as pdf:\n",
    "            for pdf_page in pdf.pages:\n",
    "                single_page_text = pdf_page.extract_text()\n",
    "                all_text = all_text + '\\n' + single_page_text\n",
    "        \n",
    "    return all_text"
   ]
  },
  {
   "cell_type": "code",
   "execution_count": 3,
   "id": "3f4ad129",
   "metadata": {},
   "outputs": [
    {
     "data": {
      "application/vnd.jupyter.widget-view+json": {
       "model_id": "232f2c7919c445f39ac4d97b43b9f394",
       "version_major": 2,
       "version_minor": 0
      },
      "text/plain": [
       "Downloading:   0%|          | 0.00/835 [00:00<?, ?B/s]"
      ]
     },
     "metadata": {},
     "output_type": "display_data"
    },
    {
     "data": {
      "application/vnd.jupyter.widget-view+json": {
       "model_id": "a572a26973384f8881786b24f432d142",
       "version_major": 2,
       "version_minor": 0
      },
      "text/plain": [
       "Downloading:   0%|          | 0.00/311M [00:00<?, ?B/s]"
      ]
     },
     "metadata": {},
     "output_type": "display_data"
    },
    {
     "data": {
      "application/vnd.jupyter.widget-view+json": {
       "model_id": "e62eb4484fb94473ab65450e834c56b5",
       "version_major": 2,
       "version_minor": 0
      },
      "text/plain": [
       "Downloading:   0%|          | 0.00/383 [00:00<?, ?B/s]"
      ]
     },
     "metadata": {},
     "output_type": "display_data"
    },
    {
     "data": {
      "application/vnd.jupyter.widget-view+json": {
       "model_id": "df8d5f607d98468abd4b54b9b37ad0dc",
       "version_major": 2,
       "version_minor": 0
      },
      "text/plain": [
       "Downloading:   0%|          | 0.00/780k [00:00<?, ?B/s]"
      ]
     },
     "metadata": {},
     "output_type": "display_data"
    },
    {
     "data": {
      "application/vnd.jupyter.widget-view+json": {
       "model_id": "1a7803f564d843e08ef82bc7d02f6c51",
       "version_major": 2,
       "version_minor": 0
      },
      "text/plain": [
       "Downloading:   0%|          | 0.00/446k [00:00<?, ?B/s]"
      ]
     },
     "metadata": {},
     "output_type": "display_data"
    },
    {
     "data": {
      "application/vnd.jupyter.widget-view+json": {
       "model_id": "2fa8837a086b41d494977bb3420b1938",
       "version_major": 2,
       "version_minor": 0
      },
      "text/plain": [
       "Downloading:   0%|          | 0.00/1.29M [00:00<?, ?B/s]"
      ]
     },
     "metadata": {},
     "output_type": "display_data"
    },
    {
     "data": {
      "application/vnd.jupyter.widget-view+json": {
       "model_id": "62f1cb1f2b56454eaefb32d91dd485ae",
       "version_major": 2,
       "version_minor": 0
      },
      "text/plain": [
       "Downloading:   0%|          | 0.00/239 [00:00<?, ?B/s]"
      ]
     },
     "metadata": {},
     "output_type": "display_data"
    }
   ],
   "source": [
    "model_name = \"deepset/tinyroberta-squad2\"\n",
    "\n",
    "# a) Get predictions\n",
    "nlp = pipeline('question-answering', model=model_name, tokenizer=model_name)"
   ]
  },
  {
   "cell_type": "code",
   "execution_count": null,
   "id": "361a5dbc",
   "metadata": {},
   "outputs": [],
   "source": [
    "# b) Load model & tokenizer\n",
    "model = AutoModelForQuestionAnswering.from_pretrained(model_name)\n",
    "tokenizer = AutoTokenizer.from_pretrained(model_name)"
   ]
  },
  {
   "cell_type": "code",
   "execution_count": 21,
   "id": "b9ecf641",
   "metadata": {},
   "outputs": [],
   "source": [
    "pickle_filename = open(\"question_answering_tinyroberta_base.pkl\",\"wb\")\n",
    "pickle.dump(nlp, pickle_filename)"
   ]
  },
  {
   "cell_type": "code",
   "execution_count": 18,
   "id": "f63051aa",
   "metadata": {},
   "outputs": [
    {
     "name": "stdout",
     "output_type": "stream",
     "text": [
      "Word counts before summarization: 42650\n"
     ]
    }
   ],
   "source": [
    "print(f\"Word counts before summarization: {len(context)}\")"
   ]
  },
  {
   "cell_type": "code",
   "execution_count": 4,
   "id": "cad2ec99",
   "metadata": {},
   "outputs": [],
   "source": [
    "doc = 'pdf/Online learning and its problems in the Covid-19 emergency period.pdf'\n",
    "context = extract_pdf(doc)"
   ]
  },
  {
   "cell_type": "code",
   "execution_count": 27,
   "id": "24cae83d",
   "metadata": {},
   "outputs": [],
   "source": [
    "question = \"how many student were able to understand the material very well\" "
   ]
  },
  {
   "cell_type": "code",
   "execution_count": 28,
   "id": "d14f3630",
   "metadata": {},
   "outputs": [],
   "source": [
    "res = nlp(question=question, context=context)"
   ]
  },
  {
   "cell_type": "code",
   "execution_count": 29,
   "id": "bb5d4d5b",
   "metadata": {},
   "outputs": [
    {
     "name": "stdout",
     "output_type": "stream",
     "text": [
      "Answer: 74.2%\n",
      "Score: 0.8702821135520935\n"
     ]
    }
   ],
   "source": [
    "print(\"Answer:\", res['answer'])\n",
    "print(\"Score:\", res['score'])"
   ]
  },
  {
   "cell_type": "code",
   "execution_count": 10,
   "id": "bd394cd8",
   "metadata": {},
   "outputs": [
    {
     "data": {
      "text/plain": [
       "{'score': 0.7904082536697388, 'start': 8534, 'end': 8540, 'answer': '33.51%'}"
      ]
     },
     "execution_count": 10,
     "metadata": {},
     "output_type": "execute_result"
    }
   ],
   "source": [
    "res"
   ]
  },
  {
   "cell_type": "markdown",
   "id": "269db3ef",
   "metadata": {},
   "source": [
    "## ========================== SEPARATE ========================== "
   ]
  },
  {
   "cell_type": "code",
   "execution_count": 11,
   "id": "97d07607",
   "metadata": {},
   "outputs": [],
   "source": [
    "file = open(\"question_answering_roberta_base.pkl\",\"rb\")\n",
    "model = pickle.load(file)"
   ]
  },
  {
   "cell_type": "code",
   "execution_count": 12,
   "id": "7e825ff2",
   "metadata": {},
   "outputs": [],
   "source": [
    "doc = 'pdf/Online learning and its problems in the Covid-19 emergency period.pdf'\n",
    "context = extract_pdf(doc)"
   ]
  },
  {
   "cell_type": "code",
   "execution_count": 24,
   "id": "a4eaaa3d",
   "metadata": {},
   "outputs": [],
   "source": [
    "question = \"how many students learn material well\"\n",
    "result = model(question=question, context=context)"
   ]
  },
  {
   "cell_type": "code",
   "execution_count": 25,
   "id": "cd89ff53",
   "metadata": {},
   "outputs": [
    {
     "data": {
      "text/plain": [
       "{'score': 0.5022027492523193, 'start': 8833, 'end': 8839, 'answer': '45.56%'}"
      ]
     },
     "execution_count": 25,
     "metadata": {},
     "output_type": "execute_result"
    }
   ],
   "source": [
    "result"
   ]
  },
  {
   "cell_type": "code",
   "execution_count": 26,
   "id": "a2fe5c95",
   "metadata": {},
   "outputs": [
    {
     "name": "stdout",
     "output_type": "stream",
     "text": [
      "Answer: 45.56%\n",
      "Score: 0.5022027492523193\n"
     ]
    }
   ],
   "source": [
    "print(\"Answer:\", result['answer'])\n",
    "print(\"Score:\", result['score'])"
   ]
  },
  {
   "cell_type": "markdown",
   "id": "3948db59",
   "metadata": {},
   "source": [
    "## ======================= SEPARATE ======================="
   ]
  },
  {
   "cell_type": "code",
   "execution_count": 51,
   "id": "b7911679",
   "metadata": {},
   "outputs": [],
   "source": [
    "model = AutoModelForQuestionAnswering.from_pretrained(model_name)\n",
    "tokenizer = AutoTokenizer.from_pretrained(model_name)"
   ]
  },
  {
   "cell_type": "code",
   "execution_count": 53,
   "id": "550832c1",
   "metadata": {},
   "outputs": [],
   "source": [
    "nlp_2= pipeline('question-answering', model=model, tokenizer=tokenizer)"
   ]
  },
  {
   "cell_type": "code",
   "execution_count": 56,
   "id": "6f20e654",
   "metadata": {},
   "outputs": [],
   "source": [
    "question = \"what is covid-19\" \n",
    "\n",
    "result = nlp_2(question=question, context=context)"
   ]
  },
  {
   "cell_type": "code",
   "execution_count": 57,
   "id": "32df7893",
   "metadata": {},
   "outputs": [
    {
     "data": {
      "text/plain": [
       "{'score': 0.9946262240409851,\n",
       " 'start': 42389,\n",
       " 'end': 42410,\n",
       " 'answer': 'Corona virus diseases'}"
      ]
     },
     "execution_count": 57,
     "metadata": {},
     "output_type": "execute_result"
    }
   ],
   "source": [
    "result"
   ]
  },
  {
   "cell_type": "code",
   "execution_count": null,
   "id": "f1203483",
   "metadata": {},
   "outputs": [],
   "source": []
  }
 ],
 "metadata": {
  "kernelspec": {
   "display_name": "Python 3 (ipykernel)",
   "language": "python",
   "name": "python3"
  },
  "language_info": {
   "codemirror_mode": {
    "name": "ipython",
    "version": 3
   },
   "file_extension": ".py",
   "mimetype": "text/x-python",
   "name": "python",
   "nbconvert_exporter": "python",
   "pygments_lexer": "ipython3",
   "version": "3.9.7"
  }
 },
 "nbformat": 4,
 "nbformat_minor": 5
}
